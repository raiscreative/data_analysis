{
 "cells": [
  {
   "cell_type": "code",
   "execution_count": 1,
   "id": "broad-charlotte",
   "metadata": {},
   "outputs": [
    {
     "name": "stdout",
     "output_type": "stream",
     "text": [
      "My num is 42\n"
     ]
    }
   ],
   "source": [
    "my_num = 42\n",
    "\n",
    "print(f\"My num is {my_num}\")"
   ]
  },
  {
   "cell_type": "code",
   "execution_count": 2,
   "id": "unsigned-arlington",
   "metadata": {},
   "outputs": [
    {
     "name": "stdout",
     "output_type": "stream",
     "text": [
      "Incoming message: SOS We have hit an iceberg and need help quickly\n",
      "   Morse encoded: ... --- ... / .-- . / .... .- ...- . / .... .. - / .- -. / .. -.-. . -... . .-. --. / .- -. -.. / -. . . -.. / .... . .-.. .--. / --.- ..- .. -.-. -.- .-.. -.--\n"
     ]
    }
   ],
   "source": [
    "letter_to_morse = {\n",
    "    'a':'.-', 'b':'-...', 'c':'-.-.', 'd':'-..', 'e':'.', 'f':'..-.', \n",
    "    'g':'--.', 'h':'....', 'i':'..', 'j':'.---', 'k':'-.-', 'l':'.-..', 'm':'--', \n",
    "    'n':'-.', 'o':'---', 'p':'.--.', 'q':'--.-', 'r':'.-.', 's':'...', 't':'-',\n",
    "    'u':'..-', 'v':'...-', 'w':'.--', 'x':'-..-', 'y':'-.--', 'z':'--..',\n",
    "    '0':'-----', '1':'.----', '2':'..---', '3':'...--', '4':'....-',\n",
    "    '5':'.....', '6':'-....', '7':'--...', '8':'---..', '9':'----.', ' ':'/'\n",
    "}\n",
    "\n",
    "message = \"SOS We have hit an iceberg and need help quickly\"\n",
    "\n",
    "# `morse` is a list which will eventually contain the \n",
    "# strings for each morse code letter in the message.\n",
    "morse = []\n",
    "\n",
    "for letter in message:\n",
    "    letter = letter.lower()  # Our dictionary only has lower-case letters\n",
    "    morse_letter = letter_to_morse[letter]\n",
    "    morse.append(morse_letter)\n",
    "\n",
    "# We need to join together Morse code letters with spaces\n",
    "morse_message = \" \".join(morse)\n",
    "\n",
    "print(f\"Incoming message: {message}\")\n",
    "print(f\"   Morse encoded: {morse_message}\")"
   ]
  },
  {
   "cell_type": "code",
   "execution_count": 3,
   "id": "diverse-floating",
   "metadata": {},
   "outputs": [
    {
     "name": "stdout",
     "output_type": "stream",
     "text": [
      "[6, 8, 10, 12]\n"
     ]
    }
   ],
   "source": [
    "a = [1, 2, 3, 4]\n",
    "b = [5, 6, 7, 8]\n",
    "\n",
    "c = []\n",
    "for a_elem, b_elem in zip(a, b):\n",
    "    c.append(a_elem + b_elem)\n",
    "\n",
    "print(c)"
   ]
  },
  {
   "cell_type": "code",
   "execution_count": 4,
   "id": "cross-activity",
   "metadata": {},
   "outputs": [],
   "source": [
    "def add_arrays(x, y):\n",
    "    z = []\n",
    "    for x_elem, y_elem in zip(x, y):\n",
    "        z.append(x_elem + y_elem)\n",
    "    return z"
   ]
  },
  {
   "cell_type": "code",
   "execution_count": 5,
   "id": "nearby-priority",
   "metadata": {},
   "outputs": [
    {
     "name": "stdout",
     "output_type": "stream",
     "text": [
      "[6, 8, 10, 12]\n"
     ]
    }
   ],
   "source": [
    "d = add_arrays(a, b)\n",
    "print(d)"
   ]
  },
  {
   "cell_type": "code",
   "execution_count": 6,
   "id": "accredited-license",
   "metadata": {},
   "outputs": [
    {
     "name": "stdout",
     "output_type": "stream",
     "text": [
      "[5.1, 12.2, 8.3]\n"
     ]
    }
   ],
   "source": [
    "r = [0.1, 0.2, 0.3]\n",
    "s = [5, 12, 8]\n",
    "t = add_arrays(r, s)\n",
    "print(t)"
   ]
  },
  {
   "cell_type": "code",
   "execution_count": 7,
   "id": "descending-district",
   "metadata": {},
   "outputs": [
    {
     "name": "stdout",
     "output_type": "stream",
     "text": [
      "[6, 8, 10]\n"
     ]
    }
   ],
   "source": [
    "r = add_arrays([1, 2, 3], [5, 6, 7])\n",
    "print(r)"
   ]
  },
  {
   "cell_type": "code",
   "execution_count": 8,
   "id": "thousand-worcester",
   "metadata": {},
   "outputs": [
    {
     "data": {
      "text/plain": [
       "3.14159"
      ]
     },
     "execution_count": 8,
     "metadata": {},
     "output_type": "execute_result"
    }
   ],
   "source": [
    "def pi():\n",
    "    return 3.14159\n",
    "\n",
    "pi()"
   ]
  },
  {
   "cell_type": "code",
   "execution_count": 9,
   "id": "editorial-holocaust",
   "metadata": {},
   "outputs": [
    {
     "data": {
      "text/plain": [
       "8"
      ]
     },
     "execution_count": 9,
     "metadata": {},
     "output_type": "execute_result"
    }
   ],
   "source": [
    "def double(x):\n",
    "    return x * 2\n",
    "\n",
    "double(4)"
   ]
  },
  {
   "cell_type": "code",
   "execution_count": 10,
   "id": "neutral-kingdom",
   "metadata": {},
   "outputs": [
    {
     "data": {
      "text/plain": [
       "{'a': 1, 'b': 2, 'c': 3, 'd': 4, 'e': 5}"
      ]
     },
     "execution_count": 10,
     "metadata": {},
     "output_type": "execute_result"
    }
   ],
   "source": [
    "def lots_of_args(a, b, c, d, e):\n",
    "    return {\"a\": a, \"b\": b, \"c\": c, \"d\": d, \"e\": e}\n",
    "\n",
    "lots_of_args(1, 2, 3, 4, 5)"
   ]
  },
  {
   "cell_type": "code",
   "execution_count": 11,
   "id": "handled-sharing",
   "metadata": {},
   "outputs": [
    {
     "name": "stdout",
     "output_type": "stream",
     "text": [
      "Incoming message: SOS We have hit an iceberg and need help quickly\n",
      "   Morse encoded: ... --- ... / .-- . / .... .- ...- . / .... .. - / .- -. / .. -.-. . -... . .-. --. / .- -. -.. / -. . . -.. / .... . .-.. .--. / --.- ..- .. -.-. -.- .-.. -.--\n"
     ]
    }
   ],
   "source": [
    "letter_to_morse = {'a':'.-', 'b':'-...', 'c':'-.-.', 'd':'-..', 'e':'.', 'f':'..-.', \n",
    "                   'g':'--.', 'h':'....', 'i':'..', 'j':'.---', 'k':'-.-', 'l':'.-..', 'm':'--', \n",
    "                   'n':'-.', 'o':'---', 'p':'.--.', 'q':'--.-', 'r':'.-.', 's':'...', 't':'-',\n",
    "                   'u':'..-', 'v':'...-', 'w':'.--', 'x':'-..-', 'y':'-.--', 'z':'--..',\n",
    "                   '0':'-----', '1':'.----', '2':'..---', '3':'...--', '4':'....-',\n",
    "                   '5':'.....', '6':'-....', '7':'--...', '8':'---..', '9':'----.',\n",
    "                   ' ':'/'}\n",
    "\n",
    "message = \"SOS We have hit an iceberg and need help quickly\"\n",
    "\n",
    "\n",
    "def encode(message):\n",
    "    morse = []\n",
    "\n",
    "    for letter in message:\n",
    "        letter = letter.lower()\n",
    "        morse_letter = letter_to_morse[letter]\n",
    "        morse.append(morse_letter)\n",
    "\n",
    "    # We need to join together Morse code letters with spaces\n",
    "    morse_message = \" \".join(morse)\n",
    "    \n",
    "    return morse_message\n",
    "\n",
    "\n",
    "morse_message = encode(message)\n",
    "\n",
    "print(f\"Incoming message: {message}\")\n",
    "print(f\"   Morse encoded: {morse_message}\")"
   ]
  },
  {
   "cell_type": "code",
   "execution_count": 23,
   "id": "alike-artwork",
   "metadata": {},
   "outputs": [
    {
     "name": "stdout",
     "output_type": "stream",
     "text": [
      "secret message\n"
     ]
    }
   ],
   "source": [
    "message = \"... . -.-. .-. . - / -- . ... ... .- --. .\"\n",
    "\n",
    "decoded_message = decode(message)\n",
    "\n",
    "print(decoded_message)"
   ]
  },
  {
   "cell_type": "code",
   "execution_count": 24,
   "id": "artistic-spirituality",
   "metadata": {},
   "outputs": [
    {
     "name": "stdout",
     "output_type": "stream",
     "text": [
      "True\n"
     ]
    }
   ],
   "source": [
    "message = \"sos we have hit an iceberg\"\n",
    "\n",
    "code = encode(message)\n",
    "decode = decode(code)\n",
    "\n",
    "print(message == decode)"
   ]
  },
  {
   "cell_type": "code",
   "execution_count": 25,
   "id": "overhead-flower",
   "metadata": {},
   "outputs": [],
   "source": [
    "our_dog = {\"name\": \"Spot\", \"colour\": \"brown\"}"
   ]
  },
  {
   "cell_type": "code",
   "execution_count": 26,
   "id": "dying-behalf",
   "metadata": {},
   "outputs": [
    {
     "name": "stdout",
     "output_type": "stream",
     "text": [
      "Spot is brown\n"
     ]
    }
   ],
   "source": [
    "def describe(dog):\n",
    "    return f\"{dog['name']} is {dog['colour']}\"\n",
    "\n",
    "print(describe(our_dog))"
   ]
  },
  {
   "cell_type": "code",
   "execution_count": 27,
   "id": "returning-steal",
   "metadata": {},
   "outputs": [],
   "source": [
    "class Dog:\n",
    "    def __init__(self, name, colour):\n",
    "        self.name = name\n",
    "        self.colour = colour"
   ]
  },
  {
   "cell_type": "code",
   "execution_count": 28,
   "id": "covered-james",
   "metadata": {},
   "outputs": [],
   "source": [
    "our_dog = Dog(\"Spot\", \"brown\")"
   ]
  },
  {
   "cell_type": "code",
   "execution_count": 29,
   "id": "major-bones",
   "metadata": {},
   "outputs": [
    {
     "name": "stdout",
     "output_type": "stream",
     "text": [
      "Spot\n"
     ]
    }
   ],
   "source": [
    "print(our_dog.name)"
   ]
  },
  {
   "cell_type": "code",
   "execution_count": 30,
   "id": "enormous-casting",
   "metadata": {},
   "outputs": [],
   "source": [
    "other_dog = Dog(\"Fido\", \"grey\")"
   ]
  },
  {
   "cell_type": "code",
   "execution_count": 31,
   "id": "unnecessary-elements",
   "metadata": {},
   "outputs": [
    {
     "name": "stdout",
     "output_type": "stream",
     "text": [
      "grey\n"
     ]
    }
   ],
   "source": [
    "print(other_dog.colour)"
   ]
  },
  {
   "cell_type": "code",
   "execution_count": 32,
   "id": "featured-metallic",
   "metadata": {},
   "outputs": [
    {
     "name": "stdout",
     "output_type": "stream",
     "text": [
      "Spot is brown\n"
     ]
    }
   ],
   "source": [
    "def describe(dog):\n",
    "    return f\"{dog.name} is {dog.colour}\"\n",
    "\n",
    "print(describe(our_dog))"
   ]
  },
  {
   "cell_type": "code",
   "execution_count": 33,
   "id": "lightweight-chess",
   "metadata": {},
   "outputs": [],
   "source": [
    "class Dog:\n",
    "    def __init__(self, name, colour):\n",
    "        self.name = name\n",
    "        self.colour = colour\n",
    "    \n",
    "    def describe(self):\n",
    "        return f\"{self.name} is {self.colour}\""
   ]
  },
  {
   "cell_type": "code",
   "execution_count": 34,
   "id": "prostate-minute",
   "metadata": {},
   "outputs": [],
   "source": [
    "our_dog = Dog(\"Spot\", \"brown\")\n",
    "other_dog = Dog(\"Fido\", \"grey\")"
   ]
  },
  {
   "cell_type": "code",
   "execution_count": 35,
   "id": "seventh-estate",
   "metadata": {},
   "outputs": [
    {
     "name": "stdout",
     "output_type": "stream",
     "text": [
      "Spot is brown\n"
     ]
    }
   ],
   "source": [
    "print(our_dog.describe())"
   ]
  },
  {
   "cell_type": "code",
   "execution_count": 36,
   "id": "homeless-passage",
   "metadata": {},
   "outputs": [
    {
     "name": "stdout",
     "output_type": "stream",
     "text": [
      "Fido is grey\n"
     ]
    }
   ],
   "source": [
    "print(other_dog.describe())"
   ]
  },
  {
   "cell_type": "code",
   "execution_count": 37,
   "id": "cleared-reset",
   "metadata": {},
   "outputs": [],
   "source": [
    "class Dog:\n",
    "    def __init__(self, name, colour):\n",
    "        self.name = name\n",
    "        self.colour = colour\n",
    "        self.energy = 1\n",
    "\n",
    "    def describe(self):\n",
    "        return f\"{self.name} is {self.colour}\"\n",
    "    \n",
    "    def exercise(self):\n",
    "        print(f\"You take {self.name} for a walk\")\n",
    "        self.energy -= 1"
   ]
  },
  {
   "cell_type": "code",
   "execution_count": 38,
   "id": "steady-tractor",
   "metadata": {},
   "outputs": [],
   "source": [
    "our_dog = Dog(\"Spot\", \"brown\")\n",
    "other_dog = Dog(\"Fido\", \"grey\")"
   ]
  },
  {
   "cell_type": "code",
   "execution_count": 39,
   "id": "checked-plane",
   "metadata": {},
   "outputs": [
    {
     "name": "stdout",
     "output_type": "stream",
     "text": [
      "1\n"
     ]
    }
   ],
   "source": [
    "print(our_dog.energy)"
   ]
  },
  {
   "cell_type": "code",
   "execution_count": 40,
   "id": "informational-veteran",
   "metadata": {},
   "outputs": [
    {
     "name": "stdout",
     "output_type": "stream",
     "text": [
      "You take Spot for a walk\n"
     ]
    }
   ],
   "source": [
    "our_dog.exercise()"
   ]
  },
  {
   "cell_type": "code",
   "execution_count": 41,
   "id": "aggressive-citation",
   "metadata": {},
   "outputs": [
    {
     "name": "stdout",
     "output_type": "stream",
     "text": [
      "0\n"
     ]
    }
   ],
   "source": [
    "print(our_dog.energy)"
   ]
  },
  {
   "cell_type": "code",
   "execution_count": 42,
   "id": "inclusive-conjunction",
   "metadata": {},
   "outputs": [
    {
     "name": "stdout",
     "output_type": "stream",
     "text": [
      "1\n"
     ]
    }
   ],
   "source": [
    "print(other_dog.energy)"
   ]
  },
  {
   "cell_type": "code",
   "execution_count": 43,
   "id": "diverse-hotel",
   "metadata": {},
   "outputs": [],
   "source": [
    "class Dog:\n",
    "    def __init__(self, name, colour):\n",
    "        self.name = name\n",
    "        self.colour = colour\n",
    "        self.energy = 1\n",
    "    \n",
    "    def describe(self):\n",
    "        return f\"{self.name} is {self.colour}\"\n",
    "    \n",
    "    def exercise(self):\n",
    "        print(f\"You take {self.name} for a walk\")\n",
    "        self.energy -= 1\n",
    "            \n",
    "    def feed(self):\n",
    "        print(f\"{self.name} eats the food\")\n",
    "        self.energy += 1"
   ]
  },
  {
   "cell_type": "code",
   "execution_count": 44,
   "id": "modern-sweden",
   "metadata": {},
   "outputs": [],
   "source": [
    "our_dog = Dog(\"Spot\", \"brown\")\n",
    "other_dog = Dog(\"Fido\", \"grey\")"
   ]
  },
  {
   "cell_type": "code",
   "execution_count": 45,
   "id": "weighted-point",
   "metadata": {},
   "outputs": [
    {
     "data": {
      "text/plain": [
       "'Spot is brown'"
      ]
     },
     "execution_count": 45,
     "metadata": {},
     "output_type": "execute_result"
    }
   ],
   "source": [
    "our_dog.describe()"
   ]
  },
  {
   "cell_type": "code",
   "execution_count": 46,
   "id": "knowing-prefix",
   "metadata": {},
   "outputs": [
    {
     "data": {
      "text/plain": [
       "'Fido is grey'"
      ]
     },
     "execution_count": 46,
     "metadata": {},
     "output_type": "execute_result"
    }
   ],
   "source": [
    "other_dog.describe()"
   ]
  },
  {
   "cell_type": "code",
   "execution_count": 47,
   "id": "banner-orlando",
   "metadata": {},
   "outputs": [],
   "source": [
    "class Message:\n",
    "    def __init__(self, message):\n",
    "        self.message = message\n",
    "        \n",
    "        if \".\" in self.message or \"-\" in self.message:\n",
    "            self.is_morse = True\n",
    "        else:\n",
    "            self.is_morse = False\n",
    "    \n",
    "    def as_morse(self):\n",
    "        if self.is_morse:\n",
    "            return self.message\n",
    "        \n",
    "        return encode(self.message)\n",
    "    \n",
    "    def as_english(self):\n",
    "        if not self.is_morse:\n",
    "            return self.message\n",
    "        \n",
    "        return decode(self.message)\n",
    "\n",
    "################################################\n",
    "# Everything after here is identical to before #\n",
    "################################################\n",
    "\n",
    "letter_to_morse = {\n",
    "    'a':'.-', 'b':'-...', 'c':'-.-.', 'd':'-..', 'e':'.', 'f':'..-.', \n",
    "    'g':'--.', 'h':'....', 'i':'..', 'j':'.---', 'k':'-.-', 'l':'.-..', 'm':'--', \n",
    "    'n':'-.', 'o':'---', 'p':'.--.', 'q':'--.-', 'r':'.-.', 's':'...', 't':'-',\n",
    "    'u':'..-', 'v':'...-', 'w':'.--', 'x':'-..-', 'y':'-.--', 'z':'--..',\n",
    "    '0':'-----', '1':'.----', '2':'..---', '3':'...--', '4':'....-',\n",
    "    '5':'.....', '6':'-....', '7':'--...', '8':'---..', '9':'----.', ' ':'/'\n",
    "}\n",
    "\n",
    "\n",
    "def encode(message):\n",
    "    morse = []\n",
    "\n",
    "    for letter in message:\n",
    "        letter = letter.lower()\n",
    "        morse_letter = letter_to_morse[letter]\n",
    "        morse.append(morse_letter)\n",
    "\n",
    "    morse_message = \" \".join(morse)\n",
    "    \n",
    "    return morse_message\n",
    "\n",
    "\n",
    "morse_to_letter = {}\n",
    "for letter in letter_to_morse:\n",
    "    morse = letter_to_morse[letter]\n",
    "    morse_to_letter[morse] = letter\n",
    "\n",
    "\n",
    "def decode(message):\n",
    "    english = []\n",
    "\n",
    "    morse_letters = message.split(\" \")\n",
    "\n",
    "    for letter in morse_letters:\n",
    "        english_letter = morse_to_letter[letter]\n",
    "        english.append(english_letter)\n",
    "\n",
    "    english_message = \"\".join(english)\n",
    "    \n",
    "    return english_message"
   ]
  },
  {
   "cell_type": "code",
   "execution_count": 48,
   "id": "moderate-provision",
   "metadata": {},
   "outputs": [
    {
     "name": "stdout",
     "output_type": "stream",
     "text": [
      "True\n"
     ]
    }
   ],
   "source": [
    "my_message = Message(\"hello world\")\n",
    "morse_string = my_message.as_morse()\n",
    "\n",
    "incoming_message = Message(morse_string)\n",
    "decoded_string = incoming_message.as_english()\n",
    "\n",
    "print(decoded_string == \"hello world\")"
   ]
  },
  {
   "cell_type": "code",
   "execution_count": 49,
   "id": "occupied-reviewer",
   "metadata": {},
   "outputs": [],
   "source": [
    "class Dog:\n",
    "    def __init__(self, name, colour):\n",
    "        self.name = name\n",
    "        self.colour = colour\n",
    "        self.energy = 1\n",
    "    \n",
    "    def describe(self):\n",
    "        return f\"{self.name} is {self.colour}\"\n",
    "    \n",
    "    def exercise(self):\n",
    "        print(f\"You take {self.name} for a walk\")\n",
    "        self.energy -= 1\n",
    "            \n",
    "    def feed(self):\n",
    "        print(f\"{self.name} eats the food\")\n",
    "        self.energy += 1"
   ]
  },
  {
   "cell_type": "code",
   "execution_count": 50,
   "id": "together-person",
   "metadata": {},
   "outputs": [],
   "source": [
    "our_dog = Dog(\"Spot\", \"brown\")"
   ]
  },
  {
   "cell_type": "code",
   "execution_count": 51,
   "id": "occasional-statistics",
   "metadata": {},
   "outputs": [
    {
     "name": "stdout",
     "output_type": "stream",
     "text": [
      "You take Spot for a walk\n",
      "Spot eats the food\n",
      "You take Spot for a walk\n",
      "You take Spot for a walk\n"
     ]
    }
   ],
   "source": [
    "our_dog.exercise()\n",
    "our_dog.feed()\n",
    "our_dog.exercise()\n",
    "our_dog.exercise()"
   ]
  },
  {
   "cell_type": "code",
   "execution_count": 52,
   "id": "alien-oriental",
   "metadata": {},
   "outputs": [
    {
     "name": "stdout",
     "output_type": "stream",
     "text": [
      "-1\n"
     ]
    }
   ],
   "source": [
    "print(our_dog.energy)"
   ]
  },
  {
   "cell_type": "code",
   "execution_count": 53,
   "id": "expensive-helmet",
   "metadata": {},
   "outputs": [],
   "source": [
    "class Dog:\n",
    "    def __init__(self, name, colour):\n",
    "        self.name = name\n",
    "        self.colour = colour\n",
    "        self.energy = 1\n",
    "    \n",
    "    def describe(self):\n",
    "        return f\"{self.name} is {self.colour}\"\n",
    "    \n",
    "    def exercise(self):\n",
    "        if self.energy >= 1:  # Added this if statement\n",
    "            print(f\"You take {self.name} for a walk\")\n",
    "            self.energy -= 1\n",
    "            \n",
    "    def feed(self):\n",
    "        print(f\"{self.name} eats the food\")\n",
    "        self.energy += 1"
   ]
  },
  {
   "cell_type": "code",
   "execution_count": 54,
   "id": "fresh-identification",
   "metadata": {},
   "outputs": [
    {
     "name": "stdout",
     "output_type": "stream",
     "text": [
      "You take Spot for a walk\n"
     ]
    }
   ],
   "source": [
    "our_dog = Dog(\"Spot\", \"brown\")\n",
    "our_dog.exercise()\n",
    "our_dog.exercise()\n",
    "our_dog.exercise()"
   ]
  },
  {
   "cell_type": "code",
   "execution_count": 55,
   "id": "breathing-pearl",
   "metadata": {},
   "outputs": [
    {
     "name": "stdout",
     "output_type": "stream",
     "text": [
      "0\n"
     ]
    }
   ],
   "source": [
    "print(our_dog.energy)"
   ]
  },
  {
   "cell_type": "code",
   "execution_count": 56,
   "id": "pointed-security",
   "metadata": {},
   "outputs": [],
   "source": [
    "class Dog:\n",
    "    def __init__(self, name, colour):\n",
    "        self.name = name\n",
    "        self.colour = colour\n",
    "        self.energy = 1\n",
    "    \n",
    "    def describe(self):\n",
    "        return f\"{self.name} is {self.colour}\"\n",
    "    \n",
    "    def exercise(self):\n",
    "        if self.energy >= 1:\n",
    "            print(f\"You take {self.name} for a walk\")\n",
    "            self.energy -= 1\n",
    "        else:  # Added this else statement\n",
    "            print(f\"{self.name} is tired. It doesn't want a walk.\")\n",
    "            \n",
    "    def feed(self):\n",
    "        print(f\"{self.name} eats the food\")\n",
    "        self.energy += 1"
   ]
  },
  {
   "cell_type": "code",
   "execution_count": 57,
   "id": "impaired-duration",
   "metadata": {},
   "outputs": [
    {
     "name": "stdout",
     "output_type": "stream",
     "text": [
      "You take Spot for a walk\n",
      "Spot is tired. It doesn't want a walk.\n",
      "Spot is tired. It doesn't want a walk.\n"
     ]
    }
   ],
   "source": [
    "our_dog = Dog(\"Spot\", \"brown\")\n",
    "our_dog.exercise()\n",
    "our_dog.exercise()\n",
    "our_dog.exercise()"
   ]
  },
  {
   "cell_type": "code",
   "execution_count": 58,
   "id": "upset-sapphire",
   "metadata": {},
   "outputs": [],
   "source": [
    "class Dog:\n",
    "    def __init__(self, name, colour):\n",
    "        self.name = name\n",
    "        self.colour = colour\n",
    "        self.energy = 1\n",
    "    \n",
    "    def describe(self):\n",
    "        return f\"{self.name} is {self.colour}\"\n",
    "    \n",
    "    def exercise(self):\n",
    "        if self.energy >= 1:\n",
    "            print(f\"You take {self.name} for a walk\")\n",
    "            self.energy -= 1\n",
    "        else:\n",
    "            raise RuntimeError(f\"{self.name} is tired. It doesn't want a walk.\")  # Now we raise\n",
    "            \n",
    "    def feed(self):\n",
    "        print(f\"{self.name} eats the food\")\n",
    "        self.energy += 1"
   ]
  },
  {
   "cell_type": "code",
   "execution_count": 59,
   "id": "generous-hands",
   "metadata": {},
   "outputs": [
    {
     "name": "stdout",
     "output_type": "stream",
     "text": [
      "You take Spot for a walk\n"
     ]
    },
    {
     "ename": "RuntimeError",
     "evalue": "Spot is tired. It doesn't want a walk.",
     "output_type": "error",
     "traceback": [
      "\u001b[1;31m---------------------------------------------------------------------------\u001b[0m",
      "\u001b[1;31mRuntimeError\u001b[0m                              Traceback (most recent call last)",
      "\u001b[1;32m<ipython-input-59-dede21eb5090>\u001b[0m in \u001b[0;36m<module>\u001b[1;34m\u001b[0m\n\u001b[0;32m      1\u001b[0m \u001b[0mour_dog\u001b[0m \u001b[1;33m=\u001b[0m \u001b[0mDog\u001b[0m\u001b[1;33m(\u001b[0m\u001b[1;34m\"Spot\"\u001b[0m\u001b[1;33m,\u001b[0m \u001b[1;34m\"brown\"\u001b[0m\u001b[1;33m)\u001b[0m\u001b[1;33m\u001b[0m\u001b[1;33m\u001b[0m\u001b[0m\n\u001b[0;32m      2\u001b[0m \u001b[0mour_dog\u001b[0m\u001b[1;33m.\u001b[0m\u001b[0mexercise\u001b[0m\u001b[1;33m(\u001b[0m\u001b[1;33m)\u001b[0m\u001b[1;33m\u001b[0m\u001b[1;33m\u001b[0m\u001b[0m\n\u001b[1;32m----> 3\u001b[1;33m \u001b[0mour_dog\u001b[0m\u001b[1;33m.\u001b[0m\u001b[0mexercise\u001b[0m\u001b[1;33m(\u001b[0m\u001b[1;33m)\u001b[0m\u001b[1;33m\u001b[0m\u001b[1;33m\u001b[0m\u001b[0m\n\u001b[0m\u001b[0;32m      4\u001b[0m \u001b[0mour_dog\u001b[0m\u001b[1;33m.\u001b[0m\u001b[0mexercise\u001b[0m\u001b[1;33m(\u001b[0m\u001b[1;33m)\u001b[0m\u001b[1;33m\u001b[0m\u001b[1;33m\u001b[0m\u001b[0m\n",
      "\u001b[1;32m<ipython-input-58-a06fdd9ba0e8>\u001b[0m in \u001b[0;36mexercise\u001b[1;34m(self)\u001b[0m\n\u001b[0;32m     13\u001b[0m             \u001b[0mself\u001b[0m\u001b[1;33m.\u001b[0m\u001b[0menergy\u001b[0m \u001b[1;33m-=\u001b[0m \u001b[1;36m1\u001b[0m\u001b[1;33m\u001b[0m\u001b[1;33m\u001b[0m\u001b[0m\n\u001b[0;32m     14\u001b[0m         \u001b[1;32melse\u001b[0m\u001b[1;33m:\u001b[0m\u001b[1;33m\u001b[0m\u001b[1;33m\u001b[0m\u001b[0m\n\u001b[1;32m---> 15\u001b[1;33m             \u001b[1;32mraise\u001b[0m \u001b[0mRuntimeError\u001b[0m\u001b[1;33m(\u001b[0m\u001b[1;34mf\"{self.name} is tired. It doesn't want a walk.\"\u001b[0m\u001b[1;33m)\u001b[0m  \u001b[1;31m# Now we raise\u001b[0m\u001b[1;33m\u001b[0m\u001b[1;33m\u001b[0m\u001b[0m\n\u001b[0m\u001b[0;32m     16\u001b[0m \u001b[1;33m\u001b[0m\u001b[0m\n\u001b[0;32m     17\u001b[0m     \u001b[1;32mdef\u001b[0m \u001b[0mfeed\u001b[0m\u001b[1;33m(\u001b[0m\u001b[0mself\u001b[0m\u001b[1;33m)\u001b[0m\u001b[1;33m:\u001b[0m\u001b[1;33m\u001b[0m\u001b[1;33m\u001b[0m\u001b[0m\n",
      "\u001b[1;31mRuntimeError\u001b[0m: Spot is tired. It doesn't want a walk."
     ]
    }
   ],
   "source": [
    "our_dog = Dog(\"Spot\", \"brown\")\n",
    "our_dog.exercise()\n",
    "our_dog.exercise()\n",
    "our_dog.exercise()"
   ]
  },
  {
   "cell_type": "code",
   "execution_count": 60,
   "id": "phantom-selection",
   "metadata": {},
   "outputs": [],
   "source": [
    "class Dog:\n",
    "    def __init__(self, name, colour):\n",
    "        self.name = name\n",
    "        self.colour = colour\n",
    "        self.energy = 1\n",
    "    \n",
    "    def describe(self):\n",
    "        return f\"{self.name} is {self.colour}\"\n",
    "    \n",
    "    def exercise(self):\n",
    "        if self.energy <= 0:\n",
    "            raise RuntimeError(f\"{self.name} is tired. It doesn't want a walk.\")\n",
    "            \n",
    "        # If the code gets to here, we know that eveything is ok\n",
    "        print(f\"You take {self.name} for a walk\")\n",
    "        self.energy -= 1   \n",
    "            \n",
    "    def feed(self):\n",
    "        print(f\"{self.name} eats the food\")\n",
    "        self.energy += 1"
   ]
  },
  {
   "cell_type": "code",
   "execution_count": 61,
   "id": "armed-boating",
   "metadata": {},
   "outputs": [
    {
     "name": "stdout",
     "output_type": "stream",
     "text": [
      "Something went wrong while trying to exercise the dog\n"
     ]
    }
   ],
   "source": [
    "try:\n",
    "    our_dog.exercise()\n",
    "except RuntimeError:\n",
    "    print(\"Something went wrong while trying to exercise the dog\")"
   ]
  },
  {
   "cell_type": "code",
   "execution_count": 62,
   "id": "interstate-distributor",
   "metadata": {},
   "outputs": [
    {
     "name": "stdout",
     "output_type": "stream",
     "text": [
      "Something went wrong while trying to exercise the dog: Spot is tired. It doesn't want a walk.\n"
     ]
    }
   ],
   "source": [
    "try:\n",
    "    our_dog.exercise()\n",
    "except RuntimeError as e:\n",
    "    print(f\"Something went wrong while trying to exercise the dog: {e}\")"
   ]
  },
  {
   "cell_type": "code",
   "execution_count": 63,
   "id": "short-football",
   "metadata": {},
   "outputs": [
    {
     "name": "stdout",
     "output_type": "stream",
     "text": [
      "Spot eats the food\n",
      "You take Spot for a walk\n"
     ]
    }
   ],
   "source": [
    "try:\n",
    "    our_dog.exercise()\n",
    "except RuntimeError as e:\n",
    "    our_dog.feed()\n",
    "    our_dog.exercise()"
   ]
  },
  {
   "cell_type": "code",
   "execution_count": 64,
   "id": "collected-liechtenstein",
   "metadata": {},
   "outputs": [],
   "source": [
    "class Message:\n",
    "    def __init__(self, message):\n",
    "        self.message = message\n",
    "        \n",
    "        if \".\" in self.message or \"-\" in self.message:\n",
    "            self.is_morse = True\n",
    "        else:\n",
    "            self.is_morse = False\n",
    "            \n",
    "        if not self.is_morse:                                             # ←\n",
    "            if \"!\" in self.message:                                       # ← new code\n",
    "                raise ValueError(f\"'!' is not valid in English strings\")  # ←\n",
    "    \n",
    "    def as_morse(self):\n",
    "        if self.is_morse:\n",
    "            return self.message\n",
    "        \n",
    "        return encode(self.message)\n",
    "    \n",
    "    def as_english(self):\n",
    "        if not self.is_morse:\n",
    "            return self.message\n",
    "        \n",
    "        return decode(self.message)\n",
    "\n",
    "\n",
    "letter_to_morse = {\n",
    "    'a':'.-', 'b':'-...', 'c':'-.-.', 'd':'-..', 'e':'.', 'f':'..-.', \n",
    "    'g':'--.', 'h':'....', 'i':'..', 'j':'.---', 'k':'-.-', 'l':'.-..', 'm':'--', \n",
    "    'n':'-.', 'o':'---', 'p':'.--.', 'q':'--.-', 'r':'.-.', 's':'...', 't':'-',\n",
    "    'u':'..-', 'v':'...-', 'w':'.--', 'x':'-..-', 'y':'-.--', 'z':'--..',\n",
    "    '0':'-----', '1':'.----', '2':'..---', '3':'...--', '4':'....-',\n",
    "    '5':'.....', '6':'-....', '7':'--...', '8':'---..', '9':'----.', ' ':'/'\n",
    "}\n",
    "\n",
    "\n",
    "def encode(message):\n",
    "    morse = []\n",
    "\n",
    "    for letter in message:\n",
    "        letter = letter.lower()\n",
    "        morse_letter = letter_to_morse[letter]\n",
    "        morse.append(morse_letter)\n",
    "\n",
    "    morse_message = \" \".join(morse)\n",
    "    \n",
    "    return morse_message\n",
    "\n",
    "\n",
    "morse_to_letter = {}\n",
    "for letter in letter_to_morse:\n",
    "    morse = letter_to_morse[letter]\n",
    "    morse_to_letter[morse] = letter\n",
    "\n",
    "\n",
    "def decode(message):\n",
    "    english = []\n",
    "\n",
    "    morse_letters = message.split(\" \")\n",
    "\n",
    "    for letter in morse_letters:\n",
    "        english_letter = morse_to_letter[letter]\n",
    "        english.append(english_letter)\n",
    "\n",
    "    english_message = \"\".join(english)\n",
    "    \n",
    "    return english_message"
   ]
  },
  {
   "cell_type": "code",
   "execution_count": 65,
   "id": "requested-malaysia",
   "metadata": {},
   "outputs": [
    {
     "name": "stdout",
     "output_type": "stream",
     "text": [
      "Could not encode message: '!' is not valid in English strings\n"
     ]
    }
   ],
   "source": [
    "message_string = \"SOS We have hit an iceberg and need help quickly!!!!!\"  # Added ! to end of string\n",
    "\n",
    "try:\n",
    "    message = Message(message_string)\n",
    "    encoded_message_string = message.as_morse()\n",
    "\n",
    "    print(f\"Incoming message: {message_string}\")\n",
    "    print(f\"   Morse encoded: {encoded_message_string}\")\n",
    "except ValueError as e:\n",
    "    print(f\"Could not encode message: {e}\")"
   ]
  },
  {
   "cell_type": "code",
   "execution_count": 66,
   "id": "auburn-adams",
   "metadata": {},
   "outputs": [
    {
     "name": "stdout",
     "output_type": "stream",
     "text": [
      "Incoming message: SOS We have hit an iceberg and need help quickly\n",
      "   Morse encoded: ... --- ... / .-- . / .... .- ...- . / .... .. - / .- -. / .. -.-. . -... . .-. --. / .- -. -.. / -. . . -.. / .... . .-.. .--. / --.- ..- .. -.-. -.- .-.. -.--\n"
     ]
    }
   ],
   "source": [
    "message_string = \"SOS We have hit an iceberg and need help quickly\"  # Removed ! from end of string\n",
    "\n",
    "try:\n",
    "    message = Message(message_string)\n",
    "    encoded_message_string = message.as_morse()\n",
    "\n",
    "    print(f\"Incoming message: {message_string}\")\n",
    "    print(f\"   Morse encoded: {encoded_message_string}\")\n",
    "except KeyError:\n",
    "    print(\"Error: Could not encode message\")"
   ]
  },
  {
   "cell_type": "code",
   "execution_count": 67,
   "id": "hired-combination",
   "metadata": {},
   "outputs": [],
   "source": [
    "def add_arrays(x, y):\n",
    "    z = []\n",
    "    for x_elem, y_elem in zip(x, y):\n",
    "        z.append(x_elem + y_elem)\n",
    "    return z"
   ]
  },
  {
   "cell_type": "code",
   "execution_count": 68,
   "id": "polish-calcium",
   "metadata": {},
   "outputs": [
    {
     "data": {
      "text/plain": [
       "[0, 1, 4, 9]"
      ]
     },
     "execution_count": 68,
     "metadata": {},
     "output_type": "execute_result"
    }
   ],
   "source": [
    "s = []\n",
    "for i in range(4):\n",
    "    s.append(i*i)\n",
    "s"
   ]
  },
  {
   "cell_type": "code",
   "execution_count": 69,
   "id": "violent-sierra",
   "metadata": {},
   "outputs": [
    {
     "data": {
      "text/plain": [
       "[0, 1, 4, 9]"
      ]
     },
     "execution_count": 69,
     "metadata": {},
     "output_type": "execute_result"
    }
   ],
   "source": [
    "[i*i for i in range(4)]"
   ]
  },
  {
   "cell_type": "code",
   "execution_count": 70,
   "id": "intimate-constraint",
   "metadata": {},
   "outputs": [],
   "source": [
    "def add_arrays(x, y):\n",
    "    return [x_elem + y_elem for x_elem, y_elem in zip(x, y)]"
   ]
  },
  {
   "cell_type": "code",
   "execution_count": 71,
   "id": "stunning-pilot",
   "metadata": {},
   "outputs": [],
   "source": [
    "class Message:\n",
    "    def __init__(self, message):\n",
    "        self.message = message\n",
    "        \n",
    "        if \".\" in self.message or \"-\" in self.message:\n",
    "            self.is_morse = True\n",
    "        else:\n",
    "            self.is_morse = False\n",
    "            \n",
    "        if not self.is_morse:\n",
    "            if \"!\" in self.message:\n",
    "                raise ValueError(f\"'!' is not valid in English strings\")\n",
    "    \n",
    "    def as_morse(self):\n",
    "        if self.is_morse:\n",
    "            return self.message\n",
    "        \n",
    "        return encode(self.message)\n",
    "    \n",
    "    def as_english(self):\n",
    "        if not self.is_morse:\n",
    "            return self.message\n",
    "        \n",
    "        return decode(self.message)\n",
    "\n",
    "\n",
    "letter_to_morse = {\n",
    "    'a':'.-', 'b':'-...', 'c':'-.-.', 'd':'-..', 'e':'.', 'f':'..-.', \n",
    "    'g':'--.', 'h':'....', 'i':'..', 'j':'.---', 'k':'-.-', 'l':'.-..', 'm':'--', \n",
    "    'n':'-.', 'o':'---', 'p':'.--.', 'q':'--.-', 'r':'.-.', 's':'...', 't':'-',\n",
    "    'u':'..-', 'v':'...-', 'w':'.--', 'x':'-..-', 'y':'-.--', 'z':'--..',\n",
    "    '0':'-----', '1':'.----', '2':'..---', '3':'...--', '4':'....-',\n",
    "    '5':'.....', '6':'-....', '7':'--...', '8':'---..', '9':'----.', ' ':'/'\n",
    "}\n",
    "\n",
    "\n",
    "morse_to_letter = {}\n",
    "for letter in letter_to_morse:\n",
    "    morse = letter_to_morse[letter]\n",
    "    morse_to_letter[morse] = letter\n",
    "\n",
    "\n",
    "def encode(message):\n",
    "    morse = [letter_to_morse[letter] for letter in message.lower()]\n",
    "\n",
    "    morse_message = \" \".join(morse)\n",
    "    \n",
    "    return morse_message\n",
    "\n",
    "    \n",
    "def decode(message):\n",
    "    english = [morse_to_letter[letter] for letter in message.split(\" \")]\n",
    "\n",
    "    english_message = \"\".join(english)\n",
    "    \n",
    "    return english_message"
   ]
  },
  {
   "cell_type": "code",
   "execution_count": 72,
   "id": "floppy-slovenia",
   "metadata": {},
   "outputs": [
    {
     "name": "stdout",
     "output_type": "stream",
     "text": [
      "Incoming message: SOS We have hit an iceberg and need help quickly\n",
      "   Morse encoded: ... --- ... / .-- . / .... .- ...- . / .... .. - / .- -. / .. -.-. . -... . .-. --. / .- -. -.. / -. . . -.. / .... . .-.. .--. / --.- ..- .. -.-. -.- .-.. -.--\n"
     ]
    }
   ],
   "source": [
    "message_string = \"SOS We have hit an iceberg and need help quickly\"\n",
    "message = Message(message_string)\n",
    "\n",
    "encoded_message_string = message.as_morse()\n",
    "\n",
    "print(f\"Incoming message: {message_string}\")\n",
    "print(f\"   Morse encoded: {encoded_message_string}\")"
   ]
  },
  {
   "cell_type": "code",
   "execution_count": null,
   "id": "missing-pakistan",
   "metadata": {},
   "outputs": [],
   "source": []
  }
 ],
 "metadata": {
  "kernelspec": {
   "display_name": "Python 3",
   "language": "python",
   "name": "python3"
  },
  "language_info": {
   "codemirror_mode": {
    "name": "ipython",
    "version": 3
   },
   "file_extension": ".py",
   "mimetype": "text/x-python",
   "name": "python",
   "nbconvert_exporter": "python",
   "pygments_lexer": "ipython3",
   "version": "3.9.0"
  }
 },
 "nbformat": 4,
 "nbformat_minor": 5
}
