{
 "cells": [
  {
   "cell_type": "code",
   "execution_count": 2,
   "id": "heated-portrait",
   "metadata": {},
   "outputs": [
    {
     "name": "stdout",
     "output_type": "stream",
     "text": [
      "Hello again from Python\n"
     ]
    }
   ],
   "source": [
    "print(\"Hello again from Python\")"
   ]
  },
  {
   "cell_type": "code",
   "execution_count": 3,
   "id": "chemical-choir",
   "metadata": {},
   "outputs": [
    {
     "name": "stdout",
     "output_type": "stream",
     "text": [
      "3.14159\n"
     ]
    }
   ],
   "source": [
    "pi = 3.14159\n",
    "print(pi)"
   ]
  },
  {
   "cell_type": "code",
   "execution_count": 4,
   "id": "metropolitan-peoples",
   "metadata": {},
   "outputs": [
    {
     "name": "stdout",
     "output_type": "stream",
     "text": [
      "48.2802\n"
     ]
    }
   ],
   "source": [
    "distance_in_miles = 30\n",
    "distance_in_km = distance_in_miles * 1.60934\n",
    "\n",
    "print(distance_in_km)"
   ]
  },
  {
   "cell_type": "code",
   "execution_count": 5,
   "id": "willing-probe",
   "metadata": {},
   "outputs": [
    {
     "name": "stdout",
     "output_type": "stream",
     "text": [
      "298.25\n"
     ]
    }
   ],
   "source": [
    "temperature_in_celsius = 25.1\n",
    "temperature_in_kelvin = temperature_in_celsius + 273.15\n",
    "\n",
    "print(temperature_in_kelvin)"
   ]
  },
  {
   "cell_type": "code",
   "execution_count": 6,
   "id": "republican-buyer",
   "metadata": {},
   "outputs": [
    {
     "name": "stdout",
     "output_type": "stream",
     "text": [
      "Hello Python\n"
     ]
    }
   ],
   "source": [
    "greeting = \"Hello \"\n",
    "name = \"Python\"\n",
    "\n",
    "message = greeting + name\n",
    "\n",
    "print(message)"
   ]
  },
  {
   "cell_type": "code",
   "execution_count": 7,
   "id": "configured-heavy",
   "metadata": {},
   "outputs": [
    {
     "name": "stdout",
     "output_type": "stream",
     "text": [
      "Hello Python\n"
     ]
    }
   ],
   "source": [
    "print(\"Hello\", \"Python\")"
   ]
  },
  {
   "cell_type": "code",
   "execution_count": 8,
   "id": "bizarre-terrorism",
   "metadata": {},
   "outputs": [
    {
     "name": "stdout",
     "output_type": "stream",
     "text": [
      "dog\n"
     ]
    }
   ],
   "source": [
    "my_list = [\"cat\", \"dog\", 261]\n",
    "\n",
    "my_element = my_list[1]\n",
    "\n",
    "print(my_element)"
   ]
  },
  {
   "cell_type": "code",
   "execution_count": 9,
   "id": "working-tracker",
   "metadata": {},
   "outputs": [
    {
     "name": "stdout",
     "output_type": "stream",
     "text": [
      "261\n"
     ]
    }
   ],
   "source": [
    "my_list = [\"cat\", \"dog\", 261]\n",
    "\n",
    "my_element = my_list[-1]\n",
    "\n",
    "print(my_element)"
   ]
  },
  {
   "cell_type": "code",
   "execution_count": 11,
   "id": "authentic-cooler",
   "metadata": {},
   "outputs": [
    {
     "name": "stdout",
     "output_type": "stream",
     "text": [
      "['green', 5.3, 'house']\n"
     ]
    }
   ],
   "source": [
    "my_list = [3, 5, \"green\", 5.3, \"house\", 100, 1]\n",
    "\n",
    "my_slice = my_list[2:5]\n",
    "\n",
    "print(my_slice)"
   ]
  },
  {
   "cell_type": "code",
   "execution_count": 12,
   "id": "acute-province",
   "metadata": {},
   "outputs": [
    {
     "name": "stdout",
     "output_type": "stream",
     "text": [
      "['cat', 'dog', 'horse']\n"
     ]
    }
   ],
   "source": [
    "my_list = [\"cat\", \"dog\"]\n",
    "\n",
    "my_list.append(\"horse\")\n",
    "\n",
    "print(my_list)"
   ]
  },
  {
   "cell_type": "code",
   "execution_count": 13,
   "id": "charged-claim",
   "metadata": {},
   "outputs": [
    {
     "name": "stdout",
     "output_type": "stream",
     "text": [
      "Hello\n",
      "Python\n"
     ]
    }
   ],
   "source": [
    "word = \"Hello\"\n",
    "\n",
    "print(word)\n",
    "\n",
    "word = \"Python\"\n",
    "\n",
    "print(word)"
   ]
  },
  {
   "cell_type": "code",
   "execution_count": 14,
   "id": "moved-narrow",
   "metadata": {},
   "outputs": [
    {
     "name": "stdout",
     "output_type": "stream",
     "text": [
      "Hello\n",
      "Python\n"
     ]
    }
   ],
   "source": [
    "my_words = [\"Hello\", \"Python\"]\n",
    "\n",
    "for word in my_words:\n",
    "    print(word)"
   ]
  },
  {
   "cell_type": "code",
   "execution_count": 15,
   "id": "extreme-somerset",
   "metadata": {},
   "outputs": [
    {
     "name": "stdout",
     "output_type": "stream",
     "text": [
      "Hello\n",
      "Python\n",
      "...Goodbye\n"
     ]
    }
   ],
   "source": [
    "my_words = [\"Hello\", \"Python\"]\n",
    "\n",
    "for word in my_words:\n",
    "    print(word)\n",
    "\n",
    "print(\"...Goodbye\")"
   ]
  },
  {
   "cell_type": "code",
   "execution_count": 16,
   "id": "thousand-luther",
   "metadata": {},
   "outputs": [
    {
     "name": "stdout",
     "output_type": "stream",
     "text": [
      "Hello\n",
      "...Goodbye\n",
      "Python\n",
      "...Goodbye\n"
     ]
    }
   ],
   "source": [
    "my_words = [\"Hello\", \"Python\"]\n",
    "\n",
    "for word in my_words:\n",
    "    print(word)\n",
    "\n",
    "    print(\"...Goodbye\")"
   ]
  },
  {
   "cell_type": "code",
   "execution_count": 17,
   "id": "artificial-short",
   "metadata": {},
   "outputs": [
    {
     "name": "stdout",
     "output_type": "stream",
     "text": [
      "Hello\n",
      "Python\n"
     ]
    }
   ],
   "source": [
    "for word in [\"Hello\", \"Python\"]:\n",
    "    print(word)"
   ]
  },
  {
   "cell_type": "code",
   "execution_count": 18,
   "id": "eleven-equilibrium",
   "metadata": {},
   "outputs": [
    {
     "name": "stdout",
     "output_type": "stream",
     "text": [
      "H\n",
      "e\n",
      "l\n",
      "l\n",
      "o\n",
      " \n",
      "P\n",
      "y\n",
      "t\n",
      "h\n",
      "o\n",
      "n\n"
     ]
    }
   ],
   "source": [
    "phrase = \"Hello Python\"\n",
    "\n",
    "for letter in phrase:\n",
    "    print(letter)"
   ]
  },
  {
   "cell_type": "code",
   "execution_count": 19,
   "id": "chubby-reply",
   "metadata": {},
   "outputs": [
    {
     "name": "stdout",
     "output_type": "stream",
     "text": [
      "0\n",
      "1\n",
      "2\n",
      "3\n",
      "4\n"
     ]
    }
   ],
   "source": [
    "for number in range(5):\n",
    "    print(number)"
   ]
  },
  {
   "cell_type": "code",
   "execution_count": 20,
   "id": "terminal-arena",
   "metadata": {},
   "outputs": [
    {
     "name": "stdout",
     "output_type": "stream",
     "text": [
      "10\n",
      "11\n",
      "12\n"
     ]
    }
   ],
   "source": [
    "for number in range(10, 13):\n",
    "    print(number)"
   ]
  },
  {
   "cell_type": "code",
   "execution_count": 21,
   "id": "blocked-series",
   "metadata": {},
   "outputs": [
    {
     "name": "stdout",
     "output_type": "stream",
     "text": [
      "Hello is at index 0\n",
      "Python is at index 1\n"
     ]
    }
   ],
   "source": [
    "for index, word in enumerate(my_words):\n",
    "    print(word, \"is at index\", index)"
   ]
  },
  {
   "cell_type": "code",
   "execution_count": 22,
   "id": "senior-malta",
   "metadata": {},
   "outputs": [
    {
     "name": "stdout",
     "output_type": "stream",
     "text": [
      "128 is large\n"
     ]
    }
   ],
   "source": [
    "my_number = 128\n",
    "\n",
    "if my_number > 100:\n",
    "    print(my_number, \"is large\")"
   ]
  },
  {
   "cell_type": "code",
   "execution_count": 23,
   "id": "fifty-empire",
   "metadata": {},
   "outputs": [
    {
     "name": "stdout",
     "output_type": "stream",
     "text": [
      "True\n"
     ]
    }
   ],
   "source": [
    "print(128 > 100)"
   ]
  },
  {
   "cell_type": "code",
   "execution_count": 24,
   "id": "supposed-parcel",
   "metadata": {},
   "outputs": [
    {
     "name": "stdout",
     "output_type": "stream",
     "text": [
      "128 is large\n"
     ]
    }
   ],
   "source": [
    "my_number = 128\n",
    "\n",
    "if my_number > 100:\n",
    "    print(my_number, \"is large\")\n",
    "else:\n",
    "    print(my_number, \"is not large\")"
   ]
  },
  {
   "cell_type": "code",
   "execution_count": 25,
   "id": "likely-basket",
   "metadata": {},
   "outputs": [
    {
     "name": "stdout",
     "output_type": "stream",
     "text": [
      "128 is large\n"
     ]
    }
   ],
   "source": [
    "my_number = 128\n",
    "\n",
    "if my_number > 100:\n",
    "    print(my_number, \"is large\")\n",
    "elif my_number < 0:\n",
    "    print(my_number, \"is negative\")\n",
    "else:\n",
    "    print(my_number, \"is not large\")"
   ]
  },
  {
   "cell_type": "code",
   "execution_count": 26,
   "id": "handed-service",
   "metadata": {},
   "outputs": [
    {
     "name": "stdout",
     "output_type": "stream",
     "text": [
      "meow\n"
     ]
    }
   ],
   "source": [
    "sounds = {\"cat\": \"meow\", \"dog\": \"woof\", \"horse\": \"neigh\"}\n",
    "\n",
    "cat_sound = sounds[\"cat\"]\n",
    "\n",
    "print(cat_sound)"
   ]
  },
  {
   "cell_type": "code",
   "execution_count": 27,
   "id": "continued-bearing",
   "metadata": {},
   "outputs": [
    {
     "name": "stdout",
     "output_type": "stream",
     "text": [
      "meow\n"
     ]
    }
   ],
   "source": [
    "sounds = {\n",
    "    \"cat\": \"meow\",\n",
    "    \"dog\": \"woof\",\n",
    "    \"horse\": \"neigh\"\n",
    "}\n",
    "\n",
    "cat_sound = sounds[\"cat\"]\n",
    "\n",
    "print(cat_sound)"
   ]
  },
  {
   "cell_type": "code",
   "execution_count": 28,
   "id": "african-tennis",
   "metadata": {},
   "outputs": [
    {
     "name": "stdout",
     "output_type": "stream",
     "text": [
      "{'cat': 'meow', 'dog': 'woof', 'horse': 'neigh', 'cow': 'moo'}\n"
     ]
    }
   ],
   "source": [
    "sounds = {\n",
    "    \"cat\": \"meow\",\n",
    "    \"dog\": \"woof\",\n",
    "    \"horse\": \"neigh\"\n",
    "}\n",
    "\n",
    "sounds[\"cow\"] = \"moo\"\n",
    "\n",
    "print(sounds)"
   ]
  },
  {
   "cell_type": "code",
   "execution_count": 29,
   "id": "reverse-bachelor",
   "metadata": {},
   "outputs": [
    {
     "name": "stdout",
     "output_type": "stream",
     "text": [
      "cat\n",
      "dog\n",
      "horse\n"
     ]
    }
   ],
   "source": [
    "sounds = {\n",
    "    \"cat\": \"meow\",\n",
    "    \"dog\": \"woof\",\n",
    "    \"horse\": \"neigh\"\n",
    "}\n",
    "\n",
    "for thing in sounds:\n",
    "    print(thing)"
   ]
  },
  {
   "cell_type": "code",
   "execution_count": 30,
   "id": "faced-investment",
   "metadata": {},
   "outputs": [
    {
     "name": "stdout",
     "output_type": "stream",
     "text": [
      "meow\n",
      "woof\n",
      "neigh\n"
     ]
    }
   ],
   "source": [
    "sounds = {\n",
    "    \"cat\": \"meow\",\n",
    "    \"dog\": \"woof\",\n",
    "    \"horse\": \"neigh\"\n",
    "}\n",
    "\n",
    "for sound in sounds.values():\n",
    "    print(sound)"
   ]
  },
  {
   "cell_type": "code",
   "execution_count": 31,
   "id": "insured-father",
   "metadata": {},
   "outputs": [
    {
     "name": "stdout",
     "output_type": "stream",
     "text": [
      "cat goes meow\n",
      "dog goes woof\n",
      "horse goes neigh\n"
     ]
    }
   ],
   "source": [
    "sounds = {\n",
    "    \"cat\": \"meow\",\n",
    "    \"dog\": \"woof\",\n",
    "    \"horse\": \"neigh\"\n",
    "}\n",
    "\n",
    "for animal, sound in sounds.items():\n",
    "    print(animal, \"goes\", sound)"
   ]
  },
  {
   "cell_type": "code",
   "execution_count": null,
   "id": "treated-closing",
   "metadata": {},
   "outputs": [],
   "source": []
  }
 ],
 "metadata": {
  "kernelspec": {
   "display_name": "Python 3",
   "language": "python",
   "name": "python3"
  },
  "language_info": {
   "codemirror_mode": {
    "name": "ipython",
    "version": 3
   },
   "file_extension": ".py",
   "mimetype": "text/x-python",
   "name": "python",
   "nbconvert_exporter": "python",
   "pygments_lexer": "ipython3",
   "version": "3.9.0"
  }
 },
 "nbformat": 4,
 "nbformat_minor": 5
}
